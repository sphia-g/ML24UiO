{
 "cells": [
  {
   "cell_type": "code",
   "execution_count": null,
   "metadata": {},
   "outputs": [],
   "source": [
    "import pandas as pd\n",
    "import numpy as np\n",
    "\n",
    "# Load the dataset\n",
    "df = pd.read_csv('diabetes.csv') \n",
    "\n",
    "rows = len(df)\n",
    "columns = df.columns\n",
    "\n",
    "for c in columns:\n",
    "    if c == 'Pregnancies' or c == 'Age' or c =='Outcome':\n",
    "        continue\n",
    "    all = df.get(c)\n",
    "    all.replace(0, np.nan, inplace=True)\n",
    "\n",
    "df.to_csv(\"diabetes_preprocessed2.csv\", index=False)"
   ]
  },
  {
   "cell_type": "code",
   "execution_count": null,
   "metadata": {},
   "outputs": [
    {
     "name": "stdout",
     "output_type": "stream",
     "text": [
      "0    148.0\n",
      "1     85.0\n",
      "2    183.0\n",
      "3     89.0\n",
      "4    137.0\n",
      "5    116.0\n",
      "6     78.0\n",
      "7    115.0\n",
      "8    197.0\n",
      "9    125.0\n",
      "Name: Glucose, dtype: float64\n",
      "0    72.0\n",
      "1    66.0\n",
      "2    64.0\n",
      "3    66.0\n",
      "4    40.0\n",
      "5    74.0\n",
      "6    50.0\n",
      "7     NaN\n",
      "8    70.0\n",
      "9    96.0\n",
      "Name: BloodPressure, dtype: float64\n"
     ]
    }
   ],
   "source": [
    "df = pd.read_csv(\"diabetes_preprocessed2.csv\") \n",
    "#print(df)\n",
    "\n",
    "gl = df.get(\"Glucose\")\n",
    "bp = df.get(\"BloodPressure\")\n",
    "st = df.get(\"SkinThickness\")\n",
    "insulin = df.get(\"Insulin\")\n",
    "bmi = df.get(\"BMI\")\n",
    "dpg = df.get(\"DiabetesPedigreeFunction\")\n",
    "age = df.get(\"Age\")"
   ]
  }
 ],
 "metadata": {
  "kernelspec": {
   "display_name": "Python 3",
   "language": "python",
   "name": "python3"
  },
  "language_info": {
   "codemirror_mode": {
    "name": "ipython",
    "version": 3
   },
   "file_extension": ".py",
   "mimetype": "text/x-python",
   "name": "python",
   "nbconvert_exporter": "python",
   "pygments_lexer": "ipython3",
   "version": "3.12.5"
  }
 },
 "nbformat": 4,
 "nbformat_minor": 2
}
