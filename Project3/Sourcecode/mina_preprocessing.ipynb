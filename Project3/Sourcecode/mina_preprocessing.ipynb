{
 "cells": [
  {
   "cell_type": "code",
   "execution_count": null,
   "metadata": {},
   "outputs": [
    {
     "name": "stdout",
     "output_type": "stream",
     "text": [
      "Index(['Pregnancies', 'Glucose', 'BloodPressure', 'SkinThickness', 'Insulin',\n",
      "       'BMI', 'DiabetesPedigreeFunction', 'Age', 'Outcome'],\n",
      "      dtype='object')\n"
     ]
    }
   ],
   "source": [
    "import pandas as pd\n",
    "import numpy as np\n",
    "\n",
    "# Load the dataset\n",
    "df = pd.read_csv('diabetes.csv') \n",
    "\n",
    "rows = len(df)\n",
    "columns = df.columns\n",
    "\n",
    "for c in columns:\n",
    "    if c == 'Pregnancies' or c == 'Age' or c =='Outcome':\n",
    "        continue\n",
    "    all = df.get(c)\n",
    "    all.replace(0, np.nan, inplace=True)\n",
    "\n",
    "df.to_csv(\"diabetes_preprocessed2.csv\", index=False)\n",
    "print(df)"
   ]
  },
  {
   "cell_type": "code",
   "execution_count": null,
   "metadata": {},
   "outputs": [
    {
     "name": "stdout",
     "output_type": "stream",
     "text": [
      "768\n",
      "392\n",
      "     Pregnancies  Glucose  BloodPressure  SkinThickness  Insulin   BMI  \\\n",
      "3              1     89.0           66.0           23.0     94.0  28.1   \n",
      "4              0    137.0           40.0           35.0    168.0  43.1   \n",
      "6              3     78.0           50.0           32.0     88.0  31.0   \n",
      "8              2    197.0           70.0           45.0    543.0  30.5   \n",
      "13             1    189.0           60.0           23.0    846.0  30.1   \n",
      "..           ...      ...            ...            ...      ...   ...   \n",
      "753            0    181.0           88.0           44.0    510.0  43.3   \n",
      "755            1    128.0           88.0           39.0    110.0  36.5   \n",
      "760            2     88.0           58.0           26.0     16.0  28.4   \n",
      "763           10    101.0           76.0           48.0    180.0  32.9   \n",
      "765            5    121.0           72.0           23.0    112.0  26.2   \n",
      "\n",
      "     DiabetesPedigreeFunction  Age  Outcome  \n",
      "3                       0.167   21        0  \n",
      "4                       2.288   33        1  \n",
      "6                       0.248   26        1  \n",
      "8                       0.158   53        1  \n",
      "13                      0.398   59        1  \n",
      "..                        ...  ...      ...  \n",
      "753                     0.222   26        1  \n",
      "755                     1.057   37        1  \n",
      "760                     0.766   22        0  \n",
      "763                     0.171   63        0  \n",
      "765                     0.245   30        0  \n",
      "\n",
      "[392 rows x 9 columns]\n"
     ]
    }
   ],
   "source": [
    "## Checking to see what happens if we remove all the rows with NaN in them\n",
    "df = pd.read_csv(\"diabetes_preprocessed2.csv\") \n",
    "print(len(df))\n",
    "\n",
    "df = df.dropna(subset=[\"Insulin\"])\n",
    "df = df.dropna(subset=[\"Glucose\"])\n",
    "df = df.dropna(subset=[\"BloodPressure\"])\n",
    "df = df.dropna(subset=[\"DiabetesPedigreeFunction\"])\n",
    "df = df.dropna(subset=[\"Age\"])\n",
    "df = df.dropna(subset=[\"SkinThickness\"])\n",
    "df = df.dropna(subset=[\"BMI\"])\n",
    "\n",
    "print(len(df)) # len=392\n",
    "#original dataset has len=768\n",
    "# I do not think it is a good idea to remove half of our dataset \n"
   ]
  }
 ],
 "metadata": {
  "kernelspec": {
   "display_name": "Python 3",
   "language": "python",
   "name": "python3"
  },
  "language_info": {
   "codemirror_mode": {
    "name": "ipython",
    "version": 3
   },
   "file_extension": ".py",
   "mimetype": "text/x-python",
   "name": "python",
   "nbconvert_exporter": "python",
   "pygments_lexer": "ipython3",
   "version": "3.12.5"
  }
 },
 "nbformat": 4,
 "nbformat_minor": 2
}
