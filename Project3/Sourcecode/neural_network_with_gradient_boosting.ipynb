{
 "cells": [
  {
   "cell_type": "markdown",
   "metadata": {},
   "source": [
    "Diabetes preprocessed dataset. Use Scikit-Learn for train-test splitting and other metrics. \n",
    "\n",
    "Pytorch for implementation of NN. "
   ]
  },
  {
   "cell_type": "code",
   "execution_count": 421,
   "metadata": {},
   "outputs": [],
   "source": [
    "import pandas as pd\n",
    "import numpy as np\n",
    "from xgboost import XGBRegressor\n",
    "from sklearn.model_selection import train_test_split\n",
    "import torch\n",
    "from torch.utils.data import DataLoader, TensorDataset\n",
    "import torch.nn as nn\n",
    "import matplotlib.pyplot as plt\n",
    "from sklearn.metrics import accuracy_score, confusion_matrix, ConfusionMatrixDisplay\n",
    "\n",
    "#Set seed to make reproducible\n",
    "torch.manual_seed(2024)\n",
    "\n",
    "#Read in dataset\n",
    "df = pd.read_csv(\"diabetes_preprocessed.csv\")\n",
    "# Separate features and target variable\n",
    "X = df.drop(columns=\"Outcome\").values  # 'Outcome' is the target variable\n",
    "y = df[\"Outcome\"].values\n",
    "\n",
    "# Split data into training and testing sets\n",
    "X_train, X_test, y_train, y_test = train_test_split(X, y, test_size=0.2, random_state=2024)\n",
    "\n",
    "# Convert to PyTorch tensors\n",
    "X_train_tensor = torch.tensor(X_train, dtype=torch.float32)\n",
    "y_train_tensor = torch.tensor(y_train, dtype=torch.float32)  # Use floar32 for regression\n",
    "X_test_tensor = torch.tensor(X_test, dtype=torch.float32)\n",
    "y_test_tensor = torch.tensor(y_test, dtype=torch.float32)\n",
    "\n",
    "# Create DataLoader \n",
    "training_data = TensorDataset(X_train_tensor, y_train_tensor)\n",
    "test_data= TensorDataset(X_test_tensor, y_test_tensor)\n",
    "\n",
    "batch_size = 32 #Random, change this\n",
    "\n",
    "train_loader = DataLoader(training_data, batch_size, shuffle=True) #Want to shuffle to prevent overfitting\n",
    "test_loader = DataLoader(test_data, batch_size, shuffle=False)\n"
   ]
  },
  {
   "cell_type": "code",
   "execution_count": 422,
   "metadata": {},
   "outputs": [],
   "source": [
    "#Define the architecture of our Neural Network\n",
    "class NeuralNet(nn.Module):\n",
    "    def __init__(self, input_size, hidden_size1, hidden_size2, output_size):\n",
    "        super(NeuralNet, self).__init__()\n",
    "        self.fc1 = nn.Linear(input_size, hidden_size1)\n",
    "        self.fc2 = nn.Linear(hidden_size1, hidden_size2)\n",
    "        self.output = nn.Linear(hidden_size2, output_size)\n",
    "        self.sigmoid = nn.Sigmoid()\n",
    "        self.leakyrelu = nn.LeakyReLU()\n",
    "    \n",
    "    def forward(self, x):\n",
    "        x = self.leakyrelu(self.fc1(x)) #First hidden layer\n",
    "        x = self.leakyrelu(self.fc2(x))\n",
    "        x = self.sigmoid(self.output(x)) #Output layer\n",
    "        return x"
   ]
  },
  {
   "cell_type": "code",
   "execution_count": 423,
   "metadata": {},
   "outputs": [],
   "source": [
    "input_size = X_train.shape[1]\n",
    "hidden_size1 = 8\n",
    "hidden_size2 = 16 #Random, change this\n",
    "output_size = 1 #Regression\n",
    "\n",
    "model = NeuralNet(input_size, hidden_size1, hidden_size2, output_size)\n",
    "\n",
    "learning_rate = 0.0001\n",
    "\n",
    "loss_function = nn.MSELoss()\n",
    "optimizer = torch.optim.SGD(model.parameters(), lr=learning_rate, weight_decay=1e-5)\n"
   ]
  },
  {
   "cell_type": "code",
   "execution_count": 424,
   "metadata": {},
   "outputs": [],
   "source": [
    "def train_loop(dataloader, model, loss_function, optimizer):\n",
    "    model.train()\n",
    "    size = len(dataloader.dataset)\n",
    "    all_predictions = []\n",
    "\n",
    "    for batch, (X, y) in enumerate(dataloader):\n",
    "        # Compute prediction and loss\n",
    "        pred = model(X)\n",
    "        loss = loss_function(pred, y)\n",
    "\n",
    "        # Backpropagation\n",
    "        loss.backward()\n",
    "        optimizer.step() #Optimization\n",
    "        optimizer.zero_grad() #Reset gradients\n",
    "\n",
    "        # Collect predictions for residuals calculation later\n",
    "        all_predictions.extend(pred.detach().cpu().numpy())\n",
    "\n",
    "        if batch % 100 == 0:\n",
    "            loss, current = loss.item(), batch * batch_size + len(X)\n",
    "            #print(f\"loss: {loss:>7f}  [{current:>5d}/{size:>5d}]\")\n",
    "\n",
    "    return np.array(all_predictions)\n"
   ]
  },
  {
   "cell_type": "code",
   "execution_count": 425,
   "metadata": {},
   "outputs": [
    {
     "name": "stderr",
     "output_type": "stream",
     "text": [
      "c:\\Users\\justi\\anaconda3\\Lib\\site-packages\\torch\\nn\\modules\\loss.py:608: UserWarning: Using a target size (torch.Size([32])) that is different to the input size (torch.Size([32, 1])). This will likely lead to incorrect results due to broadcasting. Please ensure they have the same size.\n",
      "  return F.mse_loss(input, target, reduction=self.reduction)\n",
      "c:\\Users\\justi\\anaconda3\\Lib\\site-packages\\torch\\nn\\modules\\loss.py:608: UserWarning: Using a target size (torch.Size([6])) that is different to the input size (torch.Size([6, 1])). This will likely lead to incorrect results due to broadcasting. Please ensure they have the same size.\n",
      "  return F.mse_loss(input, target, reduction=self.reduction)\n"
     ]
    },
    {
     "name": "stdout",
     "output_type": "stream",
     "text": [
      "Done!\n"
     ]
    }
   ],
   "source": [
    "epochs = 500\n",
    "for epoch in range(epochs):\n",
    "    #print(f\"Epoch {epoch+1}\\n-------------------------------\")\n",
    "    predictions = train_loop(train_loader, model, loss_function, optimizer)\n",
    "print(\"Done!\")"
   ]
  },
  {
   "cell_type": "code",
   "execution_count": 426,
   "metadata": {},
   "outputs": [
    {
     "name": "stdout",
     "output_type": "stream",
     "text": [
      "Accuracy using Combined Model: 79.2%\n"
     ]
    },
    {
     "data": {
      "image/png": "[encoded data removed]",
      "text/plain": [
       "<Figure size 640x480 with 2 Axes>"
      ]
     },
     "metadata": {},
     "output_type": "display_data"
    }
   ],
   "source": [
    "#Create residuals\n",
    "y_train = y_train.flatten()\n",
    "predictions = predictions.flatten()\n",
    "residuals = y_train - predictions\n",
    "\n",
    "# Train XGBoost on residuals\n",
    "xgb_model = XGBRegressor()\n",
    "xgb_model.fit(X_train, residuals)\n",
    "\n",
    "# Combined model predictions on test set\n",
    "test_predictions = model(torch.tensor(X_test, dtype=torch.float32)).detach().numpy().flatten()\n",
    "xgb_residuals_pred = xgb_model.predict(X_test)\n",
    "combined_predictions = test_predictions + xgb_residuals_pred\n",
    "\n",
    "# Convert combined predictions to binary labels (assuming binary classification)\n",
    "combined_predictions_labels = (combined_predictions > 0.5).astype(int)\n",
    "y_test_labels = (y_test.flatten() > 0.5).astype(int)\n",
    "\n",
    "# Calculate performance\n",
    "accuracy = accuracy_score(combined_predictions_labels, y_test_labels)\n",
    "print(f\"Accuracy using Combined Model: {100 * accuracy:>0.1f}%\")\n",
    "\n",
    "conf_matrix = confusion_matrix(combined_predictions_labels, y_test_labels)\n",
    "disp = ConfusionMatrixDisplay(confusion_matrix=conf_matrix, display_labels=['Non-Diabetic', 'Diabetic'])\n",
    "disp.plot(cmap='Blues')\n",
    "plt.title(\"Confusion Matrix using Combined Model\")\n",
    "plt.show()"
   ]
  }
 ],
 "metadata": {
  "kernelspec": {
   "display_name": "base",
   "language": "python",
   "name": "python3"
  },
  "language_info": {
   "codemirror_mode": {
    "name": "ipython",
    "version": 3
   },
   "file_extension": ".py",
   "mimetype": "text/x-python",
   "name": "python",
   "nbconvert_exporter": "python",
   "pygments_lexer": "ipython3",
   "version": "3.11.5"
  }
 },
 "nbformat": 4,
 "nbformat_minor": 2
}
