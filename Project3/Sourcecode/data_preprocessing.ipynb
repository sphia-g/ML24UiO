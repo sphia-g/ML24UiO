{
 "cells": [
  {
   "cell_type": "code",
   "execution_count": 2,
   "metadata": {},
   "outputs": [
    {
     "name": "stdout",
     "output_type": "stream",
     "text": [
      "    Pregnancies  Glucose  BloodPressure  SkinThickness  Insulin   BMI  \\\n",
      "3           1.0     89.0           66.0           23.0     94.0  28.1   \n",
      "4           0.0    137.0           40.0           35.0    168.0  43.1   \n",
      "6           3.0     78.0           50.0           32.0     88.0  31.0   \n",
      "8           2.0    197.0           70.0           45.0    543.0  30.5   \n",
      "13          1.0    189.0           60.0           23.0    846.0  30.1   \n",
      "\n",
      "    DiabetesPedigreeFunction   Age  Outcome  \n",
      "3                      0.167  21.0        0  \n",
      "4                      2.288  33.0        1  \n",
      "6                      0.248  26.0        1  \n",
      "8                      0.158  53.0        1  \n",
      "13                     0.398  59.0        1  \n"
     ]
    }
   ],
   "source": [
    "#from sklearn.datasets import load_diabetes\n",
    "#diabetes = load_diabetes()\n",
    "import pandas as pd\n",
    "import numpy as np\n",
    "\n",
    "# Load the dataset\n",
    "df = pd.read_csv('diabetes.csv') \n",
    "\n",
    "# Define expected ranges for each column\n",
    "expected_ranges = {\n",
    "    \"Pregnancies\": (0, None),          # Non-negative values\n",
    "    \"Glucose\": (1, None),              # Must be positive (Glucose = 0 is unrealistic)\n",
    "    \"BloodPressure\": (1, None),        # Must be positive (Blood pressure = 0 is unrealistic)\n",
    "    \"SkinThickness\": (1, None),        # Must be positive (Skin thickness = 0 is unrealistic)\n",
    "    \"Insulin\": (1, None),              # Must be positive (Insulin = 0 is unrealistic)\n",
    "    \"BMI\": (1, None),                  # Must be positive (BMI = 0 is unrealistic)\n",
    "    \"DiabetesPedigreeFunction\": (0, None), # Non-negative values\n",
    "    \"Age\": (1, None)                   # Must be positive (Age = 0 is unrealistic)\n",
    "}\n",
    "\n",
    "# Function to replace out-of-range values or unexpected zeros with NaN\n",
    "for column, (min_value, max_value) in expected_ranges.items():\n",
    "    # Replace 0s where they shouldn't be (e.g., Glucose, BloodPressure, etc.)\n",
    "    if min_value is not None and min_value > 0:\n",
    "        df[column] = df[column].replace(0, np.nan)\n",
    "    \n",
    "    # Check if values are within the specified range\n",
    "    if min_value is not None:\n",
    "        df.loc[df[column] < min_value, column] = np.nan\n",
    "    if max_value is not None:\n",
    "        df.loc[df[column] > max_value, column] = np.nan\n",
    "        \n",
    "# Drop rows with any NaN values\n",
    "df.dropna(inplace=True)\n",
    "\n",
    "# Display the DataFrame to check the result\n",
    "print(df.head())\n",
    "\n",
    "# Save the preprocessed dataset\n",
    "df.to_csv(\"diabetes_preprocessed.csv\", index=False)\n"
   ]
  }
 ],
 "metadata": {
  "kernelspec": {
   "display_name": "Python 3",
   "language": "python",
   "name": "python3"
  },
  "language_info": {
   "codemirror_mode": {
    "name": "ipython",
    "version": 3
   },
   "file_extension": ".py",
   "mimetype": "text/x-python",
   "name": "python",
   "nbconvert_exporter": "python",
   "pygments_lexer": "ipython3",
   "version": "3.12.4"
  }
 },
 "nbformat": 4,
 "nbformat_minor": 2
}
