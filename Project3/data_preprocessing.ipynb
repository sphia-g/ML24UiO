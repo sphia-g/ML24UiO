{
 "cells": [
  {
   "cell_type": "code",
   "execution_count": null,
   "metadata": {},
   "outputs": [
    {
     "name": "stdout",
     "output_type": "stream",
     "text": [
      "(768, 9)\n",
      "Empty DataFrame\n",
      "Columns: [Pregnancies, Glucose, BloodPressure, SkinThickness, Insulin, BMI, DiabetesPedigreeFunction, Age, Outcome]\n",
      "Index: []\n",
      "0      50\n",
      "1      31\n",
      "2      32\n",
      "3      21\n",
      "4      33\n",
      "       ..\n",
      "763    63\n",
      "764    27\n",
      "765    30\n",
      "766    47\n",
      "767    23\n",
      "Name: Age, Length: 768, dtype: int64\n"
     ]
    }
   ],
   "source": [
    "#from sklearn.datasets import load_diabetes\n",
    "#diabetes = load_diabetes()\n",
    "import pandas as pd\n",
    "import numpy\n",
    "\n",
    "diabetes = pd.read_csv('diabetes.csv') \n",
    "\n",
    "print(diabetes.shape)\n",
    "print(diabetes.head(0))\n",
    "\n",
    "print(diabetes['DiabetesPedigreeFunction'])\n"
   ]
  }
 ],
 "metadata": {
  "kernelspec": {
   "display_name": "Python 3",
   "language": "python",
   "name": "python3"
  },
  "language_info": {
   "codemirror_mode": {
    "name": "ipython",
    "version": 3
   },
   "file_extension": ".py",
   "mimetype": "text/x-python",
   "name": "python",
   "nbconvert_exporter": "python",
   "pygments_lexer": "ipython3",
   "version": "3.12.5"
  }
 },
 "nbformat": 4,
 "nbformat_minor": 2
}
