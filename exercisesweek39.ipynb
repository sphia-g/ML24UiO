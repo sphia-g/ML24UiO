{
 "cells": [
  {
   "cell_type": "markdown",
   "id": "12bcd5bb",
   "metadata": {
    "editable": true
   },
   "source": [
    "<!-- HTML file automatically generated from DocOnce source (https://github.com/doconce/doconce/)\n",
    "doconce format html exercisesweek39.do.txt  -->\n",
    "<!-- dom:TITLE: Exercises week 39 -->"
   ]
  },
  {
   "cell_type": "markdown",
   "id": "cd59f741",
   "metadata": {
    "editable": true
   },
   "source": [
    "# Exercises week 39\n",
    "**September 23-27, 2024**\n",
    "\n",
    "Date: **Deadline is Friday September 27 at midnight**"
   ]
  },
  {
   "cell_type": "markdown",
   "id": "bdf13ce1",
   "metadata": {
    "editable": true
   },
   "source": [
    "## Overarching aims of the exercises this week\n",
    "\n",
    "The aim of the exercises this week is to aid you in getting started\n",
    "with writing the report. This will be discussed during the lab\n",
    "sessions as well. \n",
    "\n",
    "A general guideline can be found at <https://github.com/CompPhysics/MachineLearning/blob/master/doc/Projects/EvaluationGrading/EvaluationForm.md>.\n",
    "\n",
    "Similarly, an example of an earlier project can be found at <https://github.com/CompPhysics/MachineLearning/blob/master/doc/Projects/ReportExample/ReportSample.pdf>\n",
    "\n",
    "Your task this week is to\n",
    "1. Write an abstract for your project\n",
    "\n",
    "2. Write an introduction\n",
    "\n",
    "3. Include references\n",
    "\n",
    "A short feedback to the this exercise will be available before the project deadline. And you can reuse these elements in your final report."
   ]
  }
 ],
 "metadata": {
  "language_info": {
   "name": "python"
  }
 },
 "nbformat": 4,
 "nbformat_minor": 5
}
