{
 "cells": [
  {
   "cell_type": "markdown",
   "id": "30071d16",
   "metadata": {
    "editable": true
   },
   "source": [
    "<!-- HTML file automatically generated from DocOnce source (https://github.com/doconce/doconce/)\n",
    "doconce format html exercisesweek48.do.txt  -->\n",
    "<!-- dom:TITLE: Exercises week 48 -->"
   ]
  },
  {
   "cell_type": "markdown",
   "id": "268eaea0",
   "metadata": {
    "editable": true
   },
   "source": [
    "# Exercises week 48\n",
    "**November 25-29, 2024**\n",
    "\n",
    "Date: **Deadline is Friday November 29 at midnight**"
   ]
  },
  {
   "cell_type": "markdown",
   "id": "1e04cbee",
   "metadata": {
    "editable": true
   },
   "source": [
    "# Overarching aims of the exercises this week\n",
    "\n",
    "The exercise this week is a simple course survey and feedback.  This\n",
    "is important for us in order to improve our teaching material, the\n",
    "active learning format and anything else related to a succesful\n",
    "mastering of central machine learning methods and their applications."
   ]
  },
  {
   "cell_type": "markdown",
   "id": "78363328",
   "metadata": {
    "editable": true
   },
   "source": [
    "### Why did you choose this course?"
   ]
  },
  {
   "cell_type": "markdown",
   "id": "f4a4facb",
   "metadata": {},
   "source": [
    "I needed to take this course because in combination with a different course the credits could be transferred to my home University."
   ]
  },
  {
   "cell_type": "markdown",
   "id": "d4950ede",
   "metadata": {
    "editable": true
   },
   "source": [
    "### What was your programming knowledge before you started?\n",
    "\n",
    "And do you feel this course added to your programming competences and skills?"
   ]
  },
  {
   "cell_type": "markdown",
   "id": "0b441777",
   "metadata": {},
   "source": [
    "My programming knowledge was quite basic. I never did much in python before, more in java.\n",
    "I feel like my programming knowledge improved especially reading code abilities, understand what parameters need to be changed, what the code actually does etc."
   ]
  },
  {
   "cell_type": "markdown",
   "id": "95e23f0c",
   "metadata": {
    "editable": true
   },
   "source": [
    "### How do you judge your own level of knowledge on machine learning before and after this course?\n",
    "\n",
    "Here you can discuss your level of skill/knowledge at the start of course\n",
    "and at the end of the course and how these matched the level of\n",
    "skill/knowledge needed to complete the projects."
   ]
  },
  {
   "cell_type": "markdown",
   "id": "bf4b0117",
   "metadata": {},
   "source": [
    "Before I had a very basic understanding of Machine Learning with more in-detail knowledge of a VAE because I once held a seminar talk about a paper on the microbiome that was used to feed into it for classification. \n",
    "Meanwhile I have a much deeper understanding of the various approaches that can be leveraged in Machine Learning. More importantly I feel like I have a better understanding of the basics and know where and what to look for."
   ]
  },
  {
   "cell_type": "markdown",
   "id": "db819721",
   "metadata": {
    "editable": true
   },
   "source": [
    "### Did the projects and the teaching material allow you to deepen your insights about Machine Learning methods?\n",
    "\n",
    "Feel free to comment here."
   ]
  },
  {
   "cell_type": "markdown",
   "id": "3a82f6ed",
   "metadata": {},
   "source": [
    "For sure. The setup of this course was very new to me. I am used to have demanding weekly exercises which I often just needed to get done within the deadline. If any I could gain a small advantage for the exam in the end which acounted for the whole grade.\n",
    "\n",
    "I feel like here I could spend more time to really dig deeper and get a better understanding of the workings of machine learning. The focus for me was more on contributing to a good project and really understand what we were doing more than to hastle for the next deadline and then immediatley forget what I did. \n",
    "\n",
    "I really liked the way of teaching since it gave me a new perspective on how a course at the university could work. I felt like this was a very constructive learning athmosphere which didnt feel too stressful. I felt like I learned a lot and am now in a position where I can really apply the stuff the course tought me way more than in a theoretical course. Not being faced with the pressure that I am usually used to was refreshing and left me wondering if this way of teaching is the more valuable way to learn things for me. This course experience was most valuable for me as an incoming student and I am taking away a lot from it. Maybe also new ideas and thoughgts on improvement of courses back at my home university. Though challenging this course ended being uo my favorite."
   ]
  },
  {
   "cell_type": "markdown",
   "id": "61d153a4",
   "metadata": {
    "editable": true
   },
   "source": [
    "### Project based teaching and active learning\n",
    "\n",
    "This is a project based course and we as teachers would like to keep\n",
    "it as it is since we see very clearly that people who attend this\n",
    "course have a very good learning outcome. Project based courses are\n",
    "however demanding (and expensive seen from the university admin) when\n",
    "it comes to proper feedback and evaluations. Feel free to discuss\n",
    "whether you found a project-based useful. Feel also free to comment upon things we can improve upon or\n",
    "alternative ways to assess whether the learning outcomes have been\n",
    "achieved. Would you for example prefer a standard 4 hours written exam\n",
    "be something you would prefer?  Or other alternatives to projects? We\n",
    "would very much value your thoughts here since projects are an\n",
    "essential part of this course."
   ]
  },
  {
   "cell_type": "markdown",
   "id": "ee1af3ff",
   "metadata": {
    "editable": true
   },
   "source": [
    "### Usefulness of the weekly exercises\n",
    "\n",
    "Did the weekly exercises help in getting started with the projects?\n",
    "How relevant where they for solving the projects?  Feel free to\n",
    "elaborate"
   ]
  },
  {
   "cell_type": "markdown",
   "id": "6fbe0d3b",
   "metadata": {},
   "source": [
    "Most definitely. The weekly exercises never felt like additional, unnecessary work to do but something that helped us stay on track to work towards the next project. They made us accountable for not procrastinating till the very last minute. Being rewarded extra points for the final grade felt like a win-win!"
   ]
  },
  {
   "cell_type": "markdown",
   "id": "46a35899",
   "metadata": {
    "editable": true
   },
   "source": [
    "### Lab sessions and lectures\n",
    "\n",
    "Was there a good link between lectures and lab sessions?\n",
    "Feel\n",
    "free to comment."
   ]
  },
  {
   "cell_type": "markdown",
   "id": "499f07a5",
   "metadata": {},
   "source": [
    "For me the lectures felt very theoretical. While I understand that that is how the lectures are supposed to be I ended up struggling with all the mathematical input. Note that I dont really had the right mathematical background to take this course. I ended up not going to the last couple of lectures since I didnt feel like it helped me for the understanding of the contents of the projects. I seemed to be as if it was more helpful for the theoretical background understanding. Without the right mathematical background I couldnt really follow the lecture."
   ]
  },
  {
   "cell_type": "markdown",
   "id": "f6524f03",
   "metadata": {
    "editable": true
   },
   "source": [
    "### How would you improve this course?\n",
    "\n",
    "Are there topics which are missing, topics which could have been\n",
    "omitted and/or discussed in more depth? Feel free to add your comments\n",
    "here such as how to improve to teaching material and more."
   ]
  },
  {
   "cell_type": "markdown",
   "id": "d19ada60",
   "metadata": {},
   "source": [
    "Maybe thinking about the lecture I would taken away more of graphical explanations about the inner workings of machine learning. Like metaphors what parameter is doing ehat. The videos linked in the weekly overview helped me woth that."
   ]
  },
  {
   "cell_type": "markdown",
   "id": "ab89b772",
   "metadata": {
    "editable": true
   },
   "source": [
    "## Then some basic questions"
   ]
  },
  {
   "cell_type": "markdown",
   "id": "9811e1b4",
   "metadata": {
    "editable": true
   },
   "source": [
    "### Which is your preferred information chanel, Canvas, Discord, mail or other?"
   ]
  },
  {
   "cell_type": "markdown",
   "id": "f01f465f",
   "metadata": {},
   "source": [
    "Canvas"
   ]
  },
  {
   "cell_type": "markdown",
   "id": "6a3741fa",
   "metadata": {
    "editable": true
   },
   "source": [
    "### Was the weekly update with plans etc useful?"
   ]
  },
  {
   "cell_type": "markdown",
   "id": "4e2e60b7",
   "metadata": {},
   "source": [
    "Yes. I would have loved the zoom link to the lecture at some place that was easy to access. Maybe in Canvas somewhere or in the weekly updates"
   ]
  },
  {
   "cell_type": "markdown",
   "id": "a51df0b9",
   "metadata": {
    "editable": true
   },
   "source": [
    "### Was it easy to access the course material?"
   ]
  },
  {
   "cell_type": "markdown",
   "id": "e57533dd",
   "metadata": {},
   "source": [
    "In the beginning I struggled a little to get around the github repository tree. And till today that is a little confusing with all the different versions of previous years. \n",
    "Setting up a github repository was a fun challenge in the beginning since ive never done it before and to make it all work took a while. That could maybe be useful for some students not as aquaiintant with github in the first exercises or lab sessions if you could go to how to potentially set up a workflow that allows collaboration."
   ]
  },
  {
   "cell_type": "markdown",
   "id": "762d5153",
   "metadata": {
    "editable": true
   },
   "source": [
    "### Which resources and tools did you use? Jupyter-notebooks, GitHub, the various textbooks we have recommended, etc etc"
   ]
  },
  {
   "cell_type": "markdown",
   "id": "bed01e7f",
   "metadata": {},
   "source": [
    "Jupyter-notebooks and GitHub"
   ]
  },
  {
   "cell_type": "markdown",
   "id": "2bf11aae",
   "metadata": {
    "editable": true
   },
   "source": [
    "### If you did not attend the lectures or the lab sessions, which resources did you use?"
   ]
  },
  {
   "cell_type": "markdown",
   "id": "8ba3ea2b",
   "metadata": {},
   "source": [
    "ChatGPT, zoom"
   ]
  },
  {
   "cell_type": "markdown",
   "id": "3f92f5ff",
   "metadata": {
    "editable": true
   },
   "source": [
    "### Any other topics, impressions, ideas etc you would like to share with us?"
   ]
  }
 ],
 "metadata": {
  "language_info": {
   "name": "python"
  }
 },
 "nbformat": 4,
 "nbformat_minor": 5
}
