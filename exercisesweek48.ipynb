{
 "cells": [
  {
   "cell_type": "markdown",
   "id": "30071d16",
   "metadata": {
    "editable": true
   },
   "source": [
    "<!-- HTML file automatically generated from DocOnce source (https://github.com/doconce/doconce/)\n",
    "doconce format html exercisesweek48.do.txt  -->\n",
    "<!-- dom:TITLE: Exercises week 48 -->"
   ]
  },
  {
   "cell_type": "markdown",
   "id": "268eaea0",
   "metadata": {
    "editable": true
   },
   "source": [
    "# Exercises week 48\n",
    "**November 25-29, 2024**\n",
    "\n",
    "Date: **Deadline is Friday November 29 at midnight**"
   ]
  },
  {
   "cell_type": "markdown",
   "id": "1e04cbee",
   "metadata": {
    "editable": true
   },
   "source": [
    "# Overarching aims of the exercises this week\n",
    "\n",
    "The exercise this week is a simple course survey and feedback.  This\n",
    "is important for us in order to improve our teaching material, the\n",
    "active learning format and anything else related to a succesful\n",
    "mastering of central machine learning methods and their applications."
   ]
  },
  {
   "cell_type": "markdown",
   "id": "78363328",
   "metadata": {
    "editable": true
   },
   "source": [
    "### Why did you choose this course?"
   ]
  },
  {
   "cell_type": "markdown",
   "id": "d4950ede",
   "metadata": {
    "editable": true
   },
   "source": [
    "### What was your programming knowledge before you started?\n",
    "\n",
    "And do you feel this course added to your programming competences and skills?"
   ]
  },
  {
   "cell_type": "markdown",
   "id": "95e23f0c",
   "metadata": {
    "editable": true
   },
   "source": [
    "### How do you judge your own level of knowledge on machine learning before and after this course?\n",
    "\n",
    "Here you can discuss your level of skill/knowledge at the start of course\n",
    "and at the end of the course and how these matched the level of\n",
    "skill/knowledge needed to complete the projects."
   ]
  },
  {
   "cell_type": "markdown",
   "id": "db819721",
   "metadata": {
    "editable": true
   },
   "source": [
    "### Did the projects and the teaching material allow you to deepen your insights about Machine Learning methods?\n",
    "\n",
    "Feel free to comment here."
   ]
  },
  {
   "cell_type": "markdown",
   "id": "61d153a4",
   "metadata": {
    "editable": true
   },
   "source": [
    "### Project based teaching and active learning\n",
    "\n",
    "This is a project based course and we as teachers would like to keep\n",
    "it as it is since we see very clearly that people who attend this\n",
    "course have a very good learning outcome. Project based courses are\n",
    "however demanding (and expensive seen from the university admin) when\n",
    "it comes to proper feedback and evaluations. Feel free to discuss\n",
    "whether you found a project-based useful. Feel also free to comment upon things we can improve upon or\n",
    "alternative ways to assess whether the learning outcomes have been\n",
    "achieved. Would you for example prefer a standard 4 hours written exam\n",
    "be something you would prefer?  Or other alternatives to projects? We\n",
    "would very much value your thoughts here since projects are an\n",
    "essential part of this course."
   ]
  },
  {
   "cell_type": "markdown",
   "id": "ee1af3ff",
   "metadata": {
    "editable": true
   },
   "source": [
    "### Usefulness of the weekly exercises\n",
    "\n",
    "Did the weekly exercises help in getting started with the projects?\n",
    "How relevant where they for solving the projects?  Feel free to\n",
    "elaborate"
   ]
  },
  {
   "cell_type": "markdown",
   "id": "46a35899",
   "metadata": {
    "editable": true
   },
   "source": [
    "### Lab sessions and lectures\n",
    "\n",
    "Was there a good link between lectures and lab sessions?\n",
    "Feel\n",
    "free to comment."
   ]
  },
  {
   "cell_type": "markdown",
   "id": "f6524f03",
   "metadata": {
    "editable": true
   },
   "source": [
    "### How would you improve this course?\n",
    "\n",
    "Are there topics which are missing, topics which could have been\n",
    "omitted and/or discussed in more depth? Feel free to add your comments\n",
    "here such as how to improve to teaching material and more."
   ]
  },
  {
   "cell_type": "markdown",
   "id": "ab89b772",
   "metadata": {
    "editable": true
   },
   "source": [
    "## Then some basic questions"
   ]
  },
  {
   "cell_type": "markdown",
   "id": "9811e1b4",
   "metadata": {
    "editable": true
   },
   "source": [
    "### Which is your preferred information chanel, Canvas, Discord, mail or other?"
   ]
  },
  {
   "cell_type": "markdown",
   "id": "6a3741fa",
   "metadata": {
    "editable": true
   },
   "source": [
    "### Was the weekly update with plans etc useful?"
   ]
  },
  {
   "cell_type": "markdown",
   "id": "a51df0b9",
   "metadata": {
    "editable": true
   },
   "source": [
    "### Was it easy to access the course material?"
   ]
  },
  {
   "cell_type": "markdown",
   "id": "762d5153",
   "metadata": {
    "editable": true
   },
   "source": [
    "### Which resources and tools did you use? Jupyter-notebooks, GitHub, the various textbooks we have recommended, etc etc"
   ]
  },
  {
   "cell_type": "markdown",
   "id": "2bf11aae",
   "metadata": {
    "editable": true
   },
   "source": [
    "### If you did not attend the lectures or the lab sessions, which resources did you use?"
   ]
  },
  {
   "cell_type": "markdown",
   "id": "3f92f5ff",
   "metadata": {
    "editable": true
   },
   "source": [
    "### Any other topics, impressions, ideas etc you would like to share with us?"
   ]
  }
 ],
 "metadata": {},
 "nbformat": 4,
 "nbformat_minor": 5
}
