{
 "cells": [
  {
   "cell_type": "markdown",
   "id": "f9bcf943",
   "metadata": {
    "editable": true
   },
   "source": [
    "<!-- HTML file automatically generated from DocOnce source (https://github.com/doconce/doconce/)\n",
    "doconce format html exercisesweek38.do.txt  -->\n",
    "<!-- dom:TITLE: Exercises week 38 -->"
   ]
  },
  {
   "cell_type": "markdown",
   "id": "ead6d6d6",
   "metadata": {
    "editable": true
   },
   "source": [
    "# Exercises week 38\n",
    "**September 16-20, 2024**\n",
    "\n",
    "Date: **Deadline is Friday September 20 at midnight**"
   ]
  },
  {
   "cell_type": "markdown",
   "id": "b6ce9344",
   "metadata": {
    "editable": true
   },
   "source": [
    "## Overarching aims of the exercises this week\n",
    "\n",
    "The aim of the exercises this week is to derive the equations for the bias-variance tradeoff to be used in project 1 as well as testing this for a simpler function using the bootstrap method. The exercises here can be reused in project 1 as well.\n",
    "\n",
    "Consider a\n",
    "dataset $\\mathcal{L}$ consisting of the data\n",
    "$\\mathbf{X}_\\mathcal{L}=\\{(y_j, \\boldsymbol{x}_j), j=0\\ldots n-1\\}$.\n",
    "\n",
    "We assume that the true data is generated from a noisy model"
   ]
  },
  {
   "cell_type": "markdown",
   "id": "29371f21",
   "metadata": {
    "editable": true
   },
   "source": [
    "$$\n",
    "\\boldsymbol{y}=f(\\boldsymbol{x}) + \\boldsymbol{\\epsilon}.\n",
    "$$"
   ]
  },
  {
   "cell_type": "markdown",
   "id": "36a8765e",
   "metadata": {
    "editable": true
   },
   "source": [
    "Here $\\epsilon$ is normally distributed with mean zero and standard\n",
    "deviation $\\sigma^2$.\n",
    "\n",
    "In our derivation of the ordinary least squares method we defined \n",
    "an approximation to the function $f$ in terms of the parameters\n",
    "$\\boldsymbol{\\beta}$ and the design matrix $\\boldsymbol{X}$ which embody our model,\n",
    "that is $\\boldsymbol{\\tilde{y}}=\\boldsymbol{X}\\boldsymbol{\\beta}$.\n",
    "\n",
    "The parameters $\\boldsymbol{\\beta}$ are in turn found by optimizing the mean\n",
    "squared error via the so-called cost function"
   ]
  },
  {
   "cell_type": "markdown",
   "id": "68dd52df",
   "metadata": {
    "editable": true
   },
   "source": [
    "$$\n",
    "C(\\boldsymbol{X},\\boldsymbol{\\beta}) =\\frac{1}{n}\\sum_{i=0}^{n-1}(y_i-\\tilde{y}_i)^2=\\mathbb{E}\\left[(\\boldsymbol{y}-\\boldsymbol{\\tilde{y}})^2\\right].\n",
    "$$"
   ]
  },
  {
   "cell_type": "markdown",
   "id": "68a07606",
   "metadata": {
    "editable": true
   },
   "source": [
    "Here the expected value $\\mathbb{E}$ is the sample value. \n",
    "\n",
    "Show that you can rewrite  this in terms of a term which contains the variance of the model itself (the so-called variance term), a\n",
    "term which measures the deviation from the true data and the mean value of the model (the bias term) and finally the variance of the noise.\n",
    "That is, show that"
   ]
  },
  {
   "cell_type": "markdown",
   "id": "fbbb3fd7",
   "metadata": {
    "editable": true
   },
   "source": [
    "$$\n",
    "\\mathbb{E}\\left[(\\boldsymbol{y}-\\boldsymbol{\\tilde{y}})^2\\right]=\\mathrm{Bias}[\\tilde{y}]+\\mathrm{var}[\\tilde{y}]+\\sigma^2,\n",
    "$$"
   ]
  },
  {
   "cell_type": "markdown",
   "id": "263d3f67",
   "metadata": {},
   "source": [
    "As MSE is a sum of both the variance and bias (and variance of the noise), we will therefore have a tradeoff between the two. We want the lowest MSE. \n",
    "\n",
    "Usually the bias will be high and the variance will be low for a low complexity model. The opposite goes for a high complexity model. "
   ]
  },
  {
   "cell_type": "markdown",
   "id": "5ecc0f22",
   "metadata": {
    "editable": true
   },
   "source": [
    "with"
   ]
  },
  {
   "cell_type": "markdown",
   "id": "8c17bd0a",
   "metadata": {
    "editable": true
   },
   "source": [
    "$$\n",
    "\\mathrm{Bias}[\\tilde{y}]=\\mathbb{E}\\left[\\left(\\boldsymbol{y}-\\mathbb{E}\\left[\\boldsymbol{\\tilde{y}}\\right]\\right)^2\\right],\n",
    "$$"
   ]
  },
  {
   "cell_type": "markdown",
   "id": "a6677138",
   "metadata": {},
   "source": [
    "We can understand bias as how well our model fits the (training) data.\n",
    "\n",
    "E.g. a perfect fit of our training data will give a low bias. Overfitting of the training data will in theory give a bias of 0. "
   ]
  },
  {
   "cell_type": "markdown",
   "id": "55ab4f0c",
   "metadata": {
    "editable": true
   },
   "source": [
    "and"
   ]
  },
  {
   "cell_type": "markdown",
   "id": "98f93c68",
   "metadata": {
    "editable": true
   },
   "source": [
    "$$\n",
    "\\mathrm{var}[\\tilde{y}]=\\mathbb{E}\\left[\\left(\\tilde{\\boldsymbol{y}}-\\mathbb{E}\\left[\\boldsymbol{\\tilde{y}}\\right]\\right)^2\\right]=\\frac{1}{n}\\sum_i(\\tilde{y}_i-\\mathbb{E}\\left[\\boldsymbol{\\tilde{y}}\\right])^2.\n",
    "$$"
   ]
  },
  {
   "cell_type": "markdown",
   "id": "8b5ba899",
   "metadata": {},
   "source": [
    "We can understand variance as the difference in the fit of the training and test data.\n",
    "\n",
    "E.g. a perfect fit for the training data will result in a high variance, because the test data will not be a good fit (overfitting the training data).\n",
    "But to get a low variance, we have an OK model for each, but not a perfect fit for any of them."
   ]
  },
  {
   "cell_type": "markdown",
   "id": "d6d099d4",
   "metadata": {
    "editable": true
   },
   "source": [
    "Explain what the terms mean and discuss their interpretations.\n",
    "\n",
    "Perform then a bias-variance analysis of a simple one-dimensional (or other models of your choice)  function by\n",
    "studying the MSE value as function of the complexity of your model. Use ordinary least squares only.\n",
    "\n",
    "Discuss the bias and variance trade-off as function\n",
    "of your model complexity (the degree of the polynomial) and the number\n",
    "of data points, and possibly also your training and test data using the **bootstrap** resampling method.\n",
    "You can follow the code example in the jupyter-book at <https://compphysics.github.io/MachineLearning/doc/LectureNotes/_build/html/chapter3.html#the-bias-variance-tradeoff>."
   ]
  },
  {
   "cell_type": "code",
   "execution_count": 11,
   "id": "3ef27936",
   "metadata": {},
   "outputs": [
    {
     "name": "stdout",
     "output_type": "stream",
     "text": [
      "Polynomial degree: 0\n",
      "Error: 0.3473449261227775\n",
      "Bias^2: 0.34442891766377043\n",
      "Var: 0.0029160084590072128\n",
      "0.3473449261227775 >= 0.34442891766377043 + 0.0029160084590072128 = 0.3473449261227776\n",
      "Polynomial degree: 1\n",
      "Error: 0.08320869315180461\n",
      "Bias^2: 0.08079415054390512\n",
      "Var: 0.0024145426078995232\n",
      "0.08320869315180461 >= 0.08079415054390512 + 0.0024145426078995232 = 0.08320869315180465\n",
      "Polynomial degree: 2\n",
      "Error: 0.09343098322594837\n",
      "Bias^2: 0.09094327576313588\n",
      "Var: 0.0024877074628124824\n",
      "0.09343098322594837 >= 0.09094327576313588 + 0.0024877074628124824 = 0.09343098322594837\n",
      "Polynomial degree: 3\n",
      "Error: 0.04412863340553516\n",
      "Bias^2: 0.042755464308461874\n",
      "Var: 0.00137316909707328\n",
      "0.04412863340553516 >= 0.042755464308461874 + 0.00137316909707328 = 0.044128633405535155\n",
      "Polynomial degree: 4\n",
      "Error: 0.04470908847589712\n",
      "Bias^2: 0.04240986903043561\n",
      "Var: 0.002299219445461515\n",
      "0.04470908847589712 >= 0.04240986903043561 + 0.002299219445461515 = 0.04470908847589712\n",
      "Polynomial degree: 5\n",
      "Error: 0.02828018815576789\n",
      "Bias^2: 0.02561877117843379\n",
      "Var: 0.0026614169773341045\n",
      "0.02828018815576789 >= 0.02561877117843379 + 0.0026614169773341045 = 0.028280188155767896\n",
      "Polynomial degree: 6\n",
      "Error: 0.02282584926211264\n",
      "Bias^2: 0.019549646074043532\n",
      "Var: 0.0032762031880691025\n",
      "0.02282584926211264 >= 0.019549646074043532 + 0.0032762031880691025 = 0.022825849262112636\n",
      "Polynomial degree: 7\n",
      "Error: 0.01858210556617152\n",
      "Bias^2: 0.01462547092581643\n",
      "Var: 0.003956634640355088\n",
      "0.01858210556617152 >= 0.01462547092581643 + 0.003956634640355088 = 0.018582105566171517\n",
      "Polynomial degree: 8\n",
      "Error: 0.012597458957966537\n",
      "Bias^2: 0.011479046694581376\n",
      "Var: 0.001118412263385174\n",
      "0.012597458957966537 >= 0.011479046694581376 + 0.001118412263385174 = 0.01259745895796655\n",
      "Polynomial degree: 9\n",
      "Error: 0.012803744241855796\n",
      "Bias^2: 0.011306151277140224\n",
      "Var: 0.0014975929647155703\n",
      "0.012803744241855796 >= 0.011306151277140224 + 0.0014975929647155703 = 0.012803744241855795\n",
      "Polynomial degree: 10\n",
      "Error: 0.013143772803252723\n",
      "Bias^2: 0.011356632052754943\n",
      "Var: 0.001787140750497788\n",
      "0.013143772803252723 >= 0.011356632052754943 + 0.001787140750497788 = 0.013143772803252731\n",
      "Polynomial degree: 11\n",
      "Error: 0.021091756600514506\n",
      "Bias^2: 0.010495297378134257\n",
      "Var: 0.010596459222380242\n",
      "0.021091756600514506 >= 0.010495297378134257 + 0.010596459222380242 = 0.0210917566005145\n",
      "Polynomial degree: 12\n",
      "Error: 0.016326775936484156\n",
      "Bias^2: 0.012231620673690205\n",
      "Var: 0.004095155262793948\n",
      "0.016326775936484156 >= 0.012231620673690205 + 0.004095155262793948 = 0.016326775936484152\n",
      "Polynomial degree: 13\n",
      "Error: 0.023820520928952992\n",
      "Bias^2: 0.013913695942596624\n",
      "Var: 0.009906824986356363\n",
      "0.023820520928952992 >= 0.013913695942596624 + 0.009906824986356363 = 0.02382052092895299\n"
     ]
    },
    {
     "data": {
      "image/png": "[encoded data removed]",
      "text/plain": [
       "<Figure size 640x480 with 1 Axes>"
      ]
     },
     "metadata": {},
     "output_type": "display_data"
    }
   ],
   "source": [
    "import matplotlib.pyplot as plt\n",
    "import numpy as np\n",
    "from sklearn.linear_model import LinearRegression, Ridge, Lasso\n",
    "from sklearn.preprocessing import PolynomialFeatures\n",
    "from sklearn.model_selection import train_test_split\n",
    "from sklearn.pipeline import make_pipeline\n",
    "from sklearn.utils import resample\n",
    "\n",
    "np.random.seed(2018)\n",
    "\n",
    "n = 100\n",
    "n_boostraps = 100\n",
    "maxdegree = 14\n",
    "\n",
    "\n",
    "# Make data set.\n",
    "x = np.linspace(-3, 3, n).reshape(-1, 1)\n",
    "y = np.exp(-x**2) + 1.5 * np.exp(-(x-2)**2)+ np.random.normal(0, 0.1, x.shape)\n",
    "error = np.zeros(maxdegree)\n",
    "bias = np.zeros(maxdegree)\n",
    "variance = np.zeros(maxdegree)\n",
    "polydegree = np.zeros(maxdegree)\n",
    "x_train, x_test, y_train, y_test = train_test_split(x, y, test_size=0.2)\n",
    "\n",
    "for degree in range(maxdegree):\n",
    "    model = make_pipeline(PolynomialFeatures(degree=degree), LinearRegression(fit_intercept=False))\n",
    "    y_pred = np.empty((y_test.shape[0], n_boostraps))\n",
    "    for i in range(n_boostraps):\n",
    "        x_, y_ = resample(x_train, y_train)\n",
    "        y_pred[:, i] = model.fit(x_, y_).predict(x_test).ravel()\n",
    "\n",
    "    polydegree[degree] = degree\n",
    "    error[degree] = np.mean( np.mean((y_test - y_pred)**2, axis=1, keepdims=True) )\n",
    "    bias[degree] = np.mean( (y_test - np.mean(y_pred, axis=1, keepdims=True))**2 )\n",
    "    variance[degree] = np.mean( np.var(y_pred, axis=1, keepdims=True) )\n",
    "    print('Polynomial degree:', degree)\n",
    "    print('Error:', error[degree])\n",
    "    print('Bias^2:', bias[degree])\n",
    "    print('Var:', variance[degree])\n",
    "    print('{} >= {} + {} = {}'.format(error[degree], bias[degree], variance[degree], bias[degree]+variance[degree]))\n",
    "\n",
    "plt.plot(polydegree, error, label='Error')\n",
    "plt.plot(polydegree, bias, label='bias')\n",
    "plt.plot(polydegree, variance, label='Variance')\n",
    "plt.legend()\n",
    "plt.show()"
   ]
  },
  {
   "cell_type": "markdown",
   "id": "66c4366c",
   "metadata": {},
   "source": [
    "When n=100 (compared to n=40), the variance decreases for a higher complexity, which in turn decreases the MSE.\n",
    "For n=20, the variance is extremely high for a higher complexity, but the bias is low for low complexity.\n",
    "\n",
    "Bias:\n",
    "For a low n, it is easier to fit the model to the data. This gives a low bias in general. \n",
    "For a high n, it is not easy to fit a model to the data when you have a low complexity (simple model), which will then have a high bias. But the bias will decrease with complexity. \n",
    "\n",
    "Variance:\n",
    "At higher complexity, the variance will be affected by number of data points. Few data points give an extremely high variance. Increasing the number of data points will give lower variance.\n",
    "More data points for training -> More \"accurate\" model for the data/Better fit -> Low variance.\n",
    "The variance still increases for the complexity."
   ]
  }
 ],
 "metadata": {
  "kernelspec": {
   "display_name": "base",
   "language": "python",
   "name": "python3"
  },
  "language_info": {
   "codemirror_mode": {
    "name": "ipython",
    "version": 3
   },
   "file_extension": ".py",
   "mimetype": "text/x-python",
   "name": "python",
   "nbconvert_exporter": "python",
   "pygments_lexer": "ipython3",
   "version": "3.11.5"
  }
 },
 "nbformat": 4,
 "nbformat_minor": 5
}
