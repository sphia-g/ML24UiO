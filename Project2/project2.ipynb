{
 "cells": [
  {
   "cell_type": "markdown",
   "id": "5b2f9dda",
   "metadata": {},
   "source": [
    "<!-- HTML file automatically generated from DocOnce source (https://github.com/doconce/doconce/)\n",
    "doconce format html Project2.do.txt  -->\n",
    "<!-- dom:TITLE: Project 2 on Machine Learning, deadline November 4 (Midnight) -->"
   ]
  },
  {
   "cell_type": "markdown",
   "id": "cacbd604",
   "metadata": {},
   "source": [
    "# Project 2 on Machine Learning, deadline November 4 (Midnight)\n",
    "**[Data Analysis and Machine Learning FYS-STK3155/FYS4155](http://www.uio.no/studier/emner/matnat/fys/FYS3155/index-eng.html)**, Department of Physics, University of Oslo, Norway\n",
    "\n",
    "Date: **Oct 8, 2024**\n",
    "\n",
    "Copyright 1999-2024, [Data Analysis and Machine Learning FYS-STK3155/FYS4155](http://www.uio.no/studier/emner/matnat/fys/FYS3155/index-eng.html). Released under CC Attribution-NonCommercial 4.0 license"
   ]
  },
  {
   "cell_type": "markdown",
   "id": "acb32119",
   "metadata": {},
   "source": [
    "## Classification and Regression, from linear and logistic regression to neural networks\n",
    "\n",
    "The main aim of this project is to study both classification and\n",
    "regression problems by developing our own feed-forward neural network\n",
    "(FFNN) code. We can reuse the regression algorithms studied in project\n",
    "1. We will also include logistic regression for classification\n",
    "problems and write our own FFNN code for studying both regression and\n",
    "classification problems.  The codes developed in project 1, including\n",
    "bootstrap **and/or** cross-validation as well as the computation of the\n",
    "mean-squared error and/or the $R2$ or the accuracy score\n",
    "(classification problems) functions can also be utilized in the\n",
    "present analysis.\n",
    "\n",
    "The data sets that we propose here are (the default sets)\n",
    "\n",
    "* Regression (fitting a continuous function). In this part you will need to bring back your results from project 1 and compare these with what you get from your Neural Network code to be developed here. The data sets could be\n",
    "\n",
    "a. A simple one-dimensional function or the Franke function or the terrain data from project 1, or data sets your propose. It could be a simpler function than the Franke function. We recommend testing a simpler function (see below). But if you wish to try more complex function, feel free to do so.\n",
    "\n",
    "* Classification. Here you will also need to develop a Logistic regression code that you will use to compare with the Neural Network code. The data set we propose are the so-called [Wisconsin Breat Cancer Data](https://www.kaggle.com/uciml/breast-cancer-wisconsin-data) data set of images representing various features of tumors. A longer explanation with links to the scientific literature can be found at the [Machine Learning repository of the University of California at Irvine](https://archive.ics.uci.edu/ml/datasets/Breast+Cancer+Wisconsin+%28Diagnostic%29). Feel free to consult this site and the pertinent  literature.\n",
    "\n",
    "You can find more information about this at the [Scikit-Learn site](https://scikit-learn.org/stable/modules/generated/sklearn.datasets.load_breast_cancer.html) or at the [University of California at Irvine](https://archive.ics.uci.edu/ml/datasets/breast+cancer+wisconsin+(original)). \n",
    "\n",
    "However, if you would like to study other data sets, feel free to\n",
    "propose other sets. What we list here are mere suggestions from our\n",
    "side. If you opt for another data set, consider using a set which has\n",
    "been studied in the scientific literature. This makes it easier for\n",
    "you to compare and analyze your results. Comparing with existing\n",
    "results from the scientific literature is also an essential element of\n",
    "the scientific discussion.  The University of California at Irvine\n",
    "with its Machine Learning repository at\n",
    "<https://archive.ics.uci.edu/ml/index.php> is an excellent site to\n",
    "look up for examples and\n",
    "inspiration. [Kaggle.com](https://www.kaggle.com/) is an equally\n",
    "interesting site. Feel free to explore these sites.\n",
    "\n",
    "We will start with a regression problem and we will reuse our codes from project 1 starting with writing our own Stochastic Gradient Descent (SGD) code."
   ]
  },
  {
   "cell_type": "markdown",
   "id": "027202f0",
   "metadata": {},
   "source": [
    "### Part a): Write your own Stochastic Gradient Descent  code, first step\n",
    "\n",
    "In order to get started, we will now replace in our standard ordinary\n",
    "least squares (OLS) and Ridge regression codes (from project 1) the\n",
    "matrix inversion algorithm with our own gradient descent (GD) and SGD\n",
    "codes.  You can use the Franke function or the terrain data from\n",
    "project 1. **However, we recommend using a simpler function like**\n",
    "$f(x)=a_0+a_1x+a_2x^2$ or higher-order one-dimensional polynomials.\n",
    "You can obviously test your final codes against for example the Franke\n",
    "function.\n",
    "\n",
    "The exercise set for week 41 should help in solving this part of the project.\n",
    "\n",
    "You should include in your analysis of the GD and SGD codes the following elements\n",
    "1. A plain gradient descent with a fixed learning rate (you will need to tune it) using the analytical expression for the gradient.\n",
    "\n",
    "2. Add momentum to the plain GD code and compare convergence with a fixed learning rate (you may need to tune the learning rate). Keep using the analytical expression for the gradient.\n",
    "\n",
    "3. Repeat these steps for stochastic gradient descent with mini batches and a given number of epochs. Use a tunable learning rate as discussed in the lectures from weeks 39 and 40. Discuss the results as functions of the various parameters (size of batches, number of epochs etc). Use the analytical gradient.\n",
    "\n",
    "4. Implement the Adagrad method in order to tune the learning rate. Do this with and without momentum for plain gradient descent and SGD.\n",
    "\n",
    "5. Add RMSprop and Adam to your library of methods for tuning the learning rate.\n",
    "\n",
    "The lecture notes from [weeks 39 and 40 contain more\n",
    "details](https://compphysics.github.io/MachineLearning/doc/pub/week39/html/week39.html) and code examples. Feel free to use these examples.\n",
    "1. Replace thereafter your analytical gradient with either **Autograd** or **JAX**\n",
    "\n",
    "**Feel free to use codes on these methods from the lecture notes from week 39 and week 40**.\n",
    "\n",
    "In summary, you should \n",
    "perform an analysis of the results for OLS and Ridge regression as\n",
    "function of the chosen learning rates, the number of mini-batches and\n",
    "epochs as well as algorithm for scaling the learning rate. You can\n",
    "also compare your own results with those that can be obtained using\n",
    "for example **Scikit-Learn**'s various SGD options.  Discuss your\n",
    "results. For Ridge regression you need now to study the results as functions of  the hyper-parameter $\\lambda$ and \n",
    "the learning rate $\\eta$.  Discuss your results.\n",
    "\n",
    "You will need your SGD code for the setup of the Neural Network and\n",
    "Logistic Regression codes. You will find the Python [Seaborn\n",
    "package](https://seaborn.pydata.org/generated/seaborn.heatmap.html)\n",
    "useful when plotting the results as function of the learning rate\n",
    "$\\eta$ and the hyper-parameter $\\lambda$ when you use Ridge\n",
    "regression. Since you will use different gradient descent methods, you can also add Lasse regression. This is however optional. How to code Lasso regression is discussed in the lecture notes from week 40.\n",
    "\n",
    "We recommend reading chapter 8 on optimization from the textbook of Goodfellow, Bengio and Courville at <https://www.deeplearningbook.org/>. This chapter contains many useful insights and discussions on the optimization part of machine learning."
   ]
  },
  {
   "cell_type": "markdown",
   "id": "9388fa74",
   "metadata": {},
   "source": [
    "### Part b): Writing your own Neural Network code\n",
    "\n",
    "Your aim now, and this is the central part of this project, is to\n",
    "write your own Feed Forward Neural Network  code implementing the back\n",
    "propagation algorithm discussed in the lecture slides from [week 41](https://compphysics.github.io/MachineLearning/doc/pub/week41/ipynb/week41.ipynb) and\n",
    "[week 42](https://compphysics.github.io/MachineLearning/doc/pub/week42/ipynb/week42.ipynb).\n",
    "\n",
    "We will focus on a regression problem first and study either the simple second-order polynomial from part a) or the \n",
    "Franke function or terrain data (or both or other data sets) from\n",
    "project 1.\n",
    "\n",
    "Discuss again your choice of cost function.\n",
    "\n",
    "Write an FFNN code for regression with a flexible number of hidden\n",
    "layers and nodes using the Sigmoid function as activation function for\n",
    "the hidden layers. Initialize the weights using a normal\n",
    "distribution. How would you initialize the biases? And which\n",
    "activation function would you select for the final output layer?\n",
    "\n",
    "Train your network and compare the results with those from your OLS and Ridge Regression codes from project 1 if you use the Franke function or the terrain data.\n",
    "You should test your results against a similar code using **Scikit-Learn** (see the examples in the above lecture notes from weeks 41 and 42) or **tensorflow/keras** or **Pytorch** (for Pytorch, see Raschka et al.'s text chapters 12 and 13). \n",
    "\n",
    "Comment your results and give a critical discussion of the results\n",
    "obtained with the Linear  Regression code and your own Neural Network\n",
    "code.  \n",
    "Make an analysis of the regularization parameters and the learning rates employed to find the optimal MSE and $R2$ scores.\n",
    "\n",
    "A useful reference on the back progagation algorithm is Nielsen's book at <http://neuralnetworksanddeeplearning.com/>. It is an excellent\n",
    "read."
   ]
  },
  {
   "cell_type": "markdown",
   "id": "d8a19b1d",
   "metadata": {},
   "source": [
    "Importing different libraries and defining cost functions"
   ]
  },
  {
   "cell_type": "code",
   "execution_count": 263,
   "id": "0fd8534b",
   "metadata": {},
   "outputs": [],
   "source": [
    "import autograd.numpy as np  # We need to use this numpy wrapper to make automatic differentiation work later\n",
    "from autograd import grad, elementwise_grad\n",
    "from sklearn import datasets\n",
    "import matplotlib.pyplot as plt\n",
    "from sklearn.metrics import accuracy_score\n",
    "from sklearn.model_selection import train_test_split\n",
    "\n",
    "\n",
    "# Defining some activation functions\n",
    "def ReLU(z):\n",
    "    return np.where(z > 0, z, 0)\n",
    "\n",
    "\n",
    "# Derivative of the ReLU function\n",
    "def ReLU_der(z):\n",
    "    return np.where(z > 0, 1, 0)\n",
    "\n",
    "\n",
    "def sigmoid(z):\n",
    "    return 1 / (1 + np.exp(-z))\n",
    "\n",
    "def sigmoid_der(z):\n",
    "    da_dz = sigmoid(z) * (1 - sigmoid(z))\n",
    "    return da_dz\n",
    "\n",
    "def mse(predict, target):\n",
    "    return np.mean((predict - target) ** 2)\n",
    "\n",
    "def mse_der(predict, target):\n",
    "    dC_da = 2/len(target) * (predict - target)\n",
    "    return dC_da\n",
    "\n",
    "def R2(predict, target):\n",
    "    return 1 - np.sum((target - predict) ** 2) / np.sum((target - np.mean(target)) ** 2)"
   ]
  },
  {
   "cell_type": "markdown",
   "id": "c989c556",
   "metadata": {},
   "source": [
    "Defining our functions for our feed forward loop and back propagation. Not batched!"
   ]
  },
  {
   "cell_type": "code",
   "execution_count": 264,
   "id": "1c1943ea",
   "metadata": {},
   "outputs": [],
   "source": [
    "def create_layers(network_input_size, layer_output_sizes):\n",
    "    layers = []\n",
    "\n",
    "    i_size = network_input_size\n",
    "    for layer_output_size in layer_output_sizes:\n",
    "        W = np.random.randn(layer_output_size, i_size)\n",
    "        b = np.random.randn(layer_output_size)\n",
    "        layers.append((W, b))\n",
    "\n",
    "        i_size = layer_output_size\n",
    "    return layers\n",
    "\n",
    "\n",
    "def feed_forward(input, layers, activation_funcs):\n",
    "    a = input\n",
    "    for (W, b), activation_func in zip(layers, activation_funcs):\n",
    "        z = W @ a + b\n",
    "        a = activation_func(z)\n",
    "    return a\n",
    "\n",
    "\n",
    "def cost(layers, input, activation_funcs, target):\n",
    "    predict = feed_forward(input, layers, activation_funcs)\n",
    "    return mse(predict, target)\n",
    "\n",
    "def feed_forward_saver(input, layers, activation_funcs):\n",
    "    layer_inputs = []\n",
    "    zs = []\n",
    "    a = input\n",
    "    for (W, b), activation_func in zip(layers, activation_funcs):\n",
    "        layer_inputs.append(a)\n",
    "        z = W @ a + b\n",
    "        a = activation_func(z)\n",
    "\n",
    "        zs.append(z)\n",
    "\n",
    "    return layer_inputs, zs, a\n",
    "\n",
    "def backpropagation(\n",
    "    input, layers, activation_funcs, target, activation_ders, cost_der=mse_der\n",
    "):\n",
    "    layer_inputs, zs, predict = feed_forward_saver(input, layers, activation_funcs)\n",
    "\n",
    "    layer_grads = [() for layer in layers]\n",
    "\n",
    "    # We loop over the layers, from the last to the first\n",
    "    for i in reversed(range(len(layers))):\n",
    "        layer_input, z, activation_der = layer_inputs[i], zs[i], activation_ders[i]\n",
    "\n",
    "        if i == len(layers) - 1:\n",
    "            # For last layer we use cost derivative as dC_da(L) can be computed directly\n",
    "            dC_da = cost_der(predict, target)\n",
    "        else:\n",
    "            # For other layers we build on previous z derivative, as dC_da(i) = dC_dz(i+1) * dz(i+1)_da(i)\n",
    "            (W, b) = layers[i + 1]\n",
    "            dC_da = dC_dz @ W\n",
    "\n",
    "        dC_dz = dC_da * activation_der(z)\n",
    "        dC_dW = np.outer(dC_dz, layer_input)\n",
    "        dC_db = dC_da * activation_der(z) * 1\n",
    "\n",
    "        layer_grads[i] = (dC_dW, dC_db)\n",
    "\n",
    "    return layer_grads"
   ]
  },
  {
   "cell_type": "markdown",
   "id": "189c6e64",
   "metadata": {},
   "source": [
    "Cost function is MSE, fits with OLS."
   ]
  },
  {
   "cell_type": "markdown",
   "id": "d0d3b82a",
   "metadata": {},
   "source": [
    "Generating data, and deciding the number of layers and output functions."
   ]
  },
  {
   "cell_type": "markdown",
   "id": "d3b8a867",
   "metadata": {},
   "source": [
    "For output layer, no activation function since we have regression. Unbounded values."
   ]
  },
  {
   "cell_type": "code",
   "execution_count": 265,
   "id": "7bc4c2d5",
   "metadata": {},
   "outputs": [
    {
     "name": "stdout",
     "output_type": "stream",
     "text": [
      "Our target: [2.86917456 3.80638534 2.58308639]\n",
      "Our OLS prediction: [2.02443135 2.36187202 1.98159208]\n",
      "MSE for OLS: 1.0540017401848776\n",
      "R2 for OLS: -2.861329567075154\n",
      "Our Ridge prediction: [3.02050163 3.51578075 2.94340644]\n",
      "MSE for Ridge: 0.07906048349832413\n",
      "R2 for Ridge: 0.7103623543678507\n"
     ]
    }
   ],
   "source": [
    "np.random.seed(666)\n",
    "x = np.random.rand(3)\n",
    "#print(\"Our x-values:\", x)\n",
    "target = x**2 * 3 + x * 2 + 0.1 * np.random.randn(3)\n",
    "print(\"Our target:\", target)\n",
    "\n",
    "X = np.ones((len(x), 3))\n",
    "X[:,0] = 1\n",
    "X[:,1] = x\n",
    "X[:,2] = x**2\n",
    "\n",
    "X_train, X_test, target_train, target_test = train_test_split(X, target, test_size=0.2)\n",
    "\n",
    "#OLS\n",
    "beta_ols = np.linalg.inv(X_train.T @ X_train) @ X_train.T @ target_train\n",
    "predict_ols = X @ beta_ols\n",
    "\n",
    "print(\"Our OLS prediction:\", predict_ols)\n",
    "print(\"MSE for OLS:\", mse(predict_ols, target))\n",
    "print(\"R2 for OLS:\", R2(predict_ols, target))\n",
    "\n",
    "#Ridge\n",
    "I = np.eye(3, 3)\n",
    "nlambdas = 100\n",
    "mse_ridge = np.zeros(nlambdas)\n",
    "lambdas = np.logspace(-4, 4, nlambdas)\n",
    "\n",
    "for i in range(nlambdas):\n",
    "    lmb = lambdas[i]\n",
    "    beta_ridge = np.linalg.inv(X_train.T @ X_train+lmb*I) @ X_train.T @ target_train\n",
    "    # and then make the prediction\n",
    "    predict_ridge = X @ beta_ridge\n",
    "    mse_ridge[i] = mse(predict_ridge, target)\n",
    "\n",
    "# Now plot the results\n",
    "'''plt.figure()\n",
    "plt.plot(np.log10(lambdas), mse_ridge, 'r--', label = 'MSE Ridge Train')\n",
    "plt.xlabel('log10(lambda)')\n",
    "plt.ylabel('MSE')\n",
    "plt.legend()\n",
    "plt.show()''' \n",
    "\n",
    "#Choose lambda accordingly\n",
    "lmb = 10**-1\n",
    "beta_ridge = np.linalg.inv(X_train.T @ X_train+lmb*I) @ X_train.T @ target_train\n",
    "predict_ridge = X @ beta_ridge\n",
    "\n",
    "print(\"Our Ridge prediction:\", predict_ridge)\n",
    "print(\"MSE for Ridge:\", mse(predict_ridge, target))\n",
    "print(\"R2 for Ridge:\", R2(predict_ridge, target))\n",
    "\n",
    "def identity_function(z): #this just means we have no activation function\n",
    "    return z\n",
    "\n",
    "def identity_der(z):\n",
    "    return 1\n",
    "\n",
    "#FFNN\n",
    "network_input_size = X.shape[1]\n",
    "layer_output_sizes = [3, 2, len(target)]\n",
    "activation_funcs = [sigmoid, sigmoid, identity_function]\n",
    "activation_ders = [sigmoid_der, sigmoid_der, identity_der]\n",
    "\n",
    "layers = create_layers(network_input_size, layer_output_sizes)\n",
    "\n",
    "layer_grads = backpropagation(x, layers, activation_funcs, target, activation_ders)\n",
    "#print(layer_grads)"
   ]
  },
  {
   "cell_type": "markdown",
   "id": "38a3ba95",
   "metadata": {},
   "source": [
    "Comparing with autograd (gives the same result). So we use our own function in the network training."
   ]
  },
  {
   "cell_type": "code",
   "execution_count": 266,
   "id": "f9fce6ce",
   "metadata": {},
   "outputs": [
    {
     "data": {
      "text/plain": [
       "'cost_grad = grad(cost, 0)\\ncost_grad(layers, x, activation_funcs, target)'"
      ]
     },
     "execution_count": 266,
     "metadata": {},
     "output_type": "execute_result"
    }
   ],
   "source": [
    "'''cost_grad = grad(cost, 0)\n",
    "cost_grad(layers, x, activation_funcs, target)'''"
   ]
  },
  {
   "cell_type": "markdown",
   "id": "0a5876f5",
   "metadata": {},
   "source": [
    "Now with updated W_g and b_g, we train the network."
   ]
  },
  {
   "cell_type": "code",
   "execution_count": 267,
   "id": "bdc0c886",
   "metadata": {},
   "outputs": [],
   "source": [
    "def train_network(x, layers, activation_funcs, target, learning_rate=0.01, epochs=10):\n",
    "    for i in range(epochs):\n",
    "        layers_grad = backpropagation(x, layers, activation_funcs, target, activation_ders)\n",
    "        for (W, b), (W_g, b_g) in zip(layers, layers_grad):\n",
    "            W -= learning_rate * W_g\n",
    "            b -= learning_rate * b_g"
   ]
  },
  {
   "cell_type": "markdown",
   "id": "414a5657",
   "metadata": {},
   "source": [
    "We see that the mse decreases with increasing number of runs. First run gives MSE = 12. Goes to zero, so with multiple runs the NN gives the same result as Ridge, and improves even further when run more times. OLS regression gives adequate results, but not as good as Ridge."
   ]
  },
  {
   "cell_type": "code",
   "execution_count": 268,
   "id": "967044c6",
   "metadata": {},
   "outputs": [
    {
     "name": "stdout",
     "output_type": "stream",
     "text": [
      "Our FFNN prediction: [-0.34534585  0.82194501 -1.49756572]\n",
      "MSE for FFNN, using linear regression: 11.963915731018668\n",
      "R2 for FFNN, using linear regression: -42.829739353252684\n"
     ]
    }
   ],
   "source": [
    "train_network(x, layers, activation_funcs, target)\n",
    "prediction = feed_forward(x, layers, activation_funcs)\n",
    "\n",
    "print(\"Our FFNN prediction:\", prediction)\n",
    "print(\"MSE for FFNN, using linear regression:\", mse(prediction, target))\n",
    "print(\"R2 for FFNN, using linear regression:\", R2(prediction, target))"
   ]
  },
  {
   "cell_type": "markdown",
   "id": "7f9e5ffe",
   "metadata": {},
   "source": [
    "\"Make an analysis of the regularization parameters and the learning rates employed to find the optimal MSE and R2 scores.\" \n",
    "Plot of lambda values. And then just argue for the choice of learning rate being reasonable.\n",
    "R2 obviously best for Ridge, and improves when training the network (and excedes Ridge). Still if we have insane amounts of data, we might choose Ridge as it takes time to train the network."
   ]
  },
  {
   "cell_type": "markdown",
   "id": "49666354",
   "metadata": {},
   "source": [
    "### Part c): Testing different activation functions\n",
    "\n",
    "You should now also test different activation functions for the hidden layers. Try out the Sigmoid, the RELU and the Leaky RELU functions and discuss your results. You may also study the way you initialize your weights and biases."
   ]
  },
  {
   "cell_type": "markdown",
   "id": "79aacf29",
   "metadata": {},
   "source": [
    "### Part d): Classification  analysis using neural networks\n",
    "\n",
    "With a well-written code it should now be easy to change the\n",
    "activation function for the output layer.\n",
    "\n",
    "Here we will change the cost function for our neural network code\n",
    "developed in parts b) and c) in order to perform a classification analysis. \n",
    "\n",
    "We will here study the Wisconsin Breast Cancer  data set. This is a typical binary classification problem with just one single output, either True or Fale, $0$ or $1$ etc.\n",
    "You find more information about this at the [Scikit-Learn\n",
    "site](https://scikit-learn.org/stable/modules/generated/sklearn.datasets.load_breast_cancer.html) or at the [University of California\n",
    "at Irvine](https://archive.ics.uci.edu/ml/datasets/breast+cancer+wisconsin+(original)). \n",
    "\n",
    "To measure the performance of our classification problem we use the\n",
    "so-called *accuracy* score.  The accuracy is as you would expect just\n",
    "the number of correctly guessed targets $t_i$ divided by the total\n",
    "number of targets, that is"
   ]
  },
  {
   "cell_type": "markdown",
   "id": "42e22900",
   "metadata": {},
   "source": [
    "$$\n",
    "\\text{Accuracy} = \\frac{\\sum_{i=1}^n I(t_i = y_i)}{n} ,\n",
    "$$"
   ]
  },
  {
   "cell_type": "markdown",
   "id": "82ae763d",
   "metadata": {},
   "source": [
    "where $I$ is the indicator function, $1$ if $t_i = y_i$ and $0$\n",
    "otherwise if we have a binary classification problem. Here $t_i$\n",
    "represents the target and $y_i$ the outputs of your FFNN code and $n$ is simply the number of targets $t_i$.\n",
    "\n",
    "Discuss your results and give a critical analysis of the various parameters, including hyper-parameters like the learning rates and the regularization parameter $\\lambda$ (as you did in Ridge Regression), various activation functions, number of hidden layers and nodes and activation functions.  \n",
    "\n",
    "As stated in the introduction, it can also be useful to study other\n",
    "datasets. \n",
    "\n",
    "Again, we strongly recommend that you compare your own neural Network\n",
    "code for classification and pertinent results against a similar code using **Scikit-Learn**  or **tensorflow/keras** or **pytorch**."
   ]
  },
  {
   "cell_type": "markdown",
   "id": "1d6b84d1",
   "metadata": {},
   "source": [
    "### Part e): Write your Logistic Regression code, final step\n",
    "\n",
    "Finally, we want to compare the FFNN code we have developed with\n",
    "Logistic regression, that is we wish to compare our neural network\n",
    "classification results with the results we can obtain with another\n",
    "method.\n",
    "\n",
    "Define your cost function and the design matrix before you start writing your code.\n",
    "Write thereafter a Logistic regression code using your SGD algorithm. You can also use standard gradient descent in this case, with a learning rate as hyper-parameter.\n",
    "Study the results as functions of the chosen learning rates.\n",
    "Add also an $l_2$ regularization parameter $\\lambda$. Compare your results with those from your FFNN code as well as those obtained using **Scikit-Learn**'s logistic regression functionality.\n",
    "\n",
    "The weblink  here <https://medium.com/ai-in-plain-english/comparison-between-logistic-regression-and-neural-networks-in-classifying-digits-dc5e85cd93c3>compares logistic regression and FFNN using the so-called MNIST data set. You may find several useful hints and ideas from this article."
   ]
  },
  {
   "cell_type": "markdown",
   "id": "98109fd2",
   "metadata": {},
   "source": [
    "What generated data sets do we want to compare?\n",
    "\n",
    "Does it make sense to compare in that \"dimension\"?\n",
    "\n",
    "Logistic regression:"
   ]
  },
  {
   "cell_type": "code",
   "execution_count": 269,
   "id": "a6e3baf2",
   "metadata": {},
   "outputs": [],
   "source": [
    "# Generated data for Logistic regression:\n",
    "# \n",
    "# Generate the dataset\n",
    "np.random.seed(2024)  # For reproducibility\n",
    "n_samples, n_features = 100, 2\n",
    "X = np.random.rand(n_samples, n_features)"
   ]
  },
  {
   "cell_type": "markdown",
   "id": "0bce8832",
   "metadata": {},
   "source": [
    "### Part f) Critical evaluation of the various algorithms\n",
    "\n",
    "After all these glorious calculations, you should now summarize the\n",
    "various algorithms and come with a critical evaluation of their pros\n",
    "and cons. Which algorithm works best for the regression case and which\n",
    "is best for the classification case. These codes can also be part of\n",
    "your final project 3, but now applied to other data sets."
   ]
  },
  {
   "cell_type": "markdown",
   "id": "51b1b29b",
   "metadata": {},
   "source": [
    "## Background literature\n",
    "\n",
    "1. The text of Michael Nielsen is highly recommended, see Nielsen's book at <http://neuralnetworksanddeeplearning.com/>. It is an excellent read.\n",
    "\n",
    "2. Goodfellow, Bengio and Courville, Deep Learning at <https://www.deeplearningbook.org/>. Here we recommend chapters 6, 7 and 8\n",
    "\n",
    "3. Raschka et al. at <https://sebastianraschka.com/blog/2022/ml-pytorch-book.html>. Here we recommend chapters 11, 12 and 13."
   ]
  },
  {
   "cell_type": "markdown",
   "id": "7e4ffbbd",
   "metadata": {},
   "source": [
    "## Introduction to numerical projects\n",
    "\n",
    "Here follows a brief recipe and recommendation on how to write a report for each\n",
    "project.\n",
    "\n",
    "  * Give a short description of the nature of the problem and the eventual  numerical methods you have used.\n",
    "\n",
    "  * Describe the algorithm you have used and/or developed. Here you may find it convenient to use pseudocoding. In many cases you can describe the algorithm in the program itself.\n",
    "\n",
    "  * Include the source code of your program. Comment your program properly.\n",
    "\n",
    "  * If possible, try to find analytic solutions, or known limits in order to test your program when developing the code.\n",
    "\n",
    "  * Include your results either in figure form or in a table. Remember to        label your results. All tables and figures should have relevant captions        and labels on the axes.\n",
    "\n",
    "  * Try to evaluate the reliabilty and numerical stability/precision of your results. If possible, include a qualitative and/or quantitative discussion of the numerical stability, eventual loss of precision etc.\n",
    "\n",
    "  * Try to give an interpretation of you results in your answers to  the problems.\n",
    "\n",
    "  * Critique: if possible include your comments and reflections about the  exercise, whether you felt you learnt something, ideas for improvements and  other thoughts you've made when solving the exercise. We wish to keep this course at the interactive level and your comments can help us improve it.\n",
    "\n",
    "  * Try to establish a practice where you log your work at the  computerlab. You may find such a logbook very handy at later stages in your work, especially when you don't properly remember  what a previous test version  of your program did. Here you could also record  the time spent on solving the exercise, various algorithms you may have tested or other topics which you feel worthy of mentioning."
   ]
  },
  {
   "cell_type": "markdown",
   "id": "56112b03",
   "metadata": {},
   "source": [
    "## Format for electronic delivery of report and programs\n",
    "\n",
    "The preferred format for the report is a PDF file. You can also use DOC or postscript formats or as an ipython notebook file.  As programming language we prefer that you choose between C/C++, Fortran2008 or Python. The following prescription should be followed when preparing the report:\n",
    "\n",
    "  * Use Canvas to hand in your projects, log in  at  <https://www.uio.no/english/services/it/education/canvas/> with your normal UiO username and password.\n",
    "\n",
    "  * Upload **only** the report file or the link to your GitHub/GitLab or similar typo of  repos!  For the source code file(s) you have developed please provide us with your link to your GitHub/GitLab or similar  domain.  The report file should include all of your discussions and a list of the codes you have developed.  Do not include library files which are available at the course homepage, unless you have made specific changes to them.\n",
    "\n",
    "  * In your GitHub/GitLab or similar repository, please include a folder which contains selected results. These can be in the form of output from your code for a selected set of runs and input parameters.\n",
    "\n",
    "Finally, \n",
    "we encourage you to collaborate. Optimal working groups consist of \n",
    "2-3 students. You can then hand in a common report."
   ]
  }
 ],
 "metadata": {
  "kernelspec": {
   "display_name": "base",
   "language": "python",
   "name": "python3"
  },
  "language_info": {
   "codemirror_mode": {
    "name": "ipython",
    "version": 3
   },
   "file_extension": ".py",
   "mimetype": "text/x-python",
   "name": "python",
   "nbconvert_exporter": "python",
   "pygments_lexer": "ipython3",
   "version": "3.11.5"
  }
 },
 "nbformat": 4,
 "nbformat_minor": 5
}
